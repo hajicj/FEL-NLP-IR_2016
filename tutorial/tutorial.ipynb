{
 "cells": [
  {
   "cell_type": "markdown",
   "metadata": {},
   "source": [
    "# Information Retrieval\n",
    "\n",
    "This is a tutorial for the `npfl103` package for Information Retrieval assignments.\n",
    "It will cover the following steps:\n",
    "\n",
    "1. Loading documents and queries (topics)\n",
    "2. Processing documents and queries into a vector space\n",
    "3. Transforming the document vectors from one space to another\n",
    "4. Making queries\n",
    "5. Writing the outputs\n",
    "6. Evaluating\n",
    "\n",
    "Note that the Python classes you're supposed to use have documentation inside, with quite detailed examples.\n",
    "We don't cover all of that here -- the tutorial focuses on how the library fits together."
   ]
  },
  {
   "cell_type": "code",
   "execution_count": null,
   "metadata": {
    "collapsed": true
   },
   "outputs": [],
   "source": [
    "import npfl103"
   ]
  },
  {
   "cell_type": "markdown",
   "metadata": {},
   "source": [
    "### Tutorial data\n",
    "\n",
    "The data for the tutorial lives in the `tutorial_assignment` subfolder. It mirrors the assignment folder in structure and file types."
   ]
  },
  {
   "cell_type": "code",
   "execution_count": null,
   "metadata": {
    "collapsed": false
   },
   "outputs": [],
   "source": [
    "import os\n",
    "\n",
    "dpath = os.path.join('.', 'tutorial-assignment')\n",
    "dlist = os.path.join(dpath, 'documents.list')\n",
    "qlist = os.path.join(dpath, 'topics.list')"
   ]
  },
  {
   "cell_type": "markdown",
   "metadata": {},
   "source": [
    "## Loading documents and queries\n",
    "\n",
    "For loading data, use the `npfl103.io` module. From the top down, there is a class for representing the entire collection of documents (`Collection`), a `Document` class for representing one document and an equivalent `Topic` class for representing one query topic, a `VText` class for representing a block of text in one zone of a document/query, and a `VToken` class for representing one word (or equivalent token) in a zone text.\n",
    "\n",
    "These classes are nothing interesting: they merely represent the data (both the queries and the documents that should be retrieved). Check out their documentation strings for details on how to operate them.\n",
    "\n",
    "The main entry point to data loading is the `Collection` class. Initialize it with the `documents.list` (or `topics.list`) file:"
   ]
  },
  {
   "cell_type": "code",
   "execution_count": null,
   "metadata": {
    "collapsed": true
   },
   "outputs": [],
   "source": [
    "from npfl103.io import Collection\n",
    "\n",
    "coll_docs = Collection(dlist)"
   ]
  },
  {
   "cell_type": "markdown",
   "metadata": {},
   "source": [
    "Notice that creating the Collection was fast. This is because the whole pipeline in `npfl103` is lazy: no document is read until it is actually requested. This helps keep time and especially memory requirements down; the library is designed to have a constant memory footprint."
   ]
  },
  {
   "cell_type": "markdown",
   "metadata": {},
   "source": [
    "### Collection item classes\n",
    "\n",
    "A Collection consists of individual documents. There are two implemented document types: the `Document` class from `npfl103.io`, and the `Topic` class. Collections are by default created as collections of `Document`s; however, for reading the queries, we use the same Collection mechanism and explicitly supply the `Topic` class."
   ]
  },
  {
   "cell_type": "code",
   "execution_count": null,
   "metadata": {
    "collapsed": true
   },
   "outputs": [],
   "source": [
    "from npfl103.io import Topic\n",
    "coll_queries = Collection(qlist, document_cls=Topic)"
   ]
  },
  {
   "cell_type": "markdown",
   "metadata": {},
   "source": [
    "### Caching\n",
    "\n",
    "The constant memory footprint is not exactly true: for speeding up repeated document reads, the Collection caches the documents it read. Eventually, you may run out of memory. In that case, try creating a Collection with `nocache=True`."
   ]
  },
  {
   "cell_type": "markdown",
   "metadata": {},
   "source": [
    "## Processing documents and queries into a vector space\n",
    "\n",
    "To run a vector space information retrieval experiment, we now have to convert the loaded representations of documents and queries into a vector space. For this, we provide the `Vectorizer` classes."
   ]
  },
  {
   "cell_type": "code",
   "execution_count": null,
   "metadata": {
    "collapsed": true
   },
   "outputs": [],
   "source": [
    "from npfl103.io import BinaryVectorizer, TermFrequencyVectorizer"
   ]
  },
  {
   "cell_type": "markdown",
   "metadata": {},
   "source": [
    "The purpose of a `Vectorizer` is to take a stream of a document's tokens and convert it into one vector representing this document in some vector space. Each token is used as a dimension of the vector space. If your tokens are just part of speech tags (noun, verb, etc.), then your space will have just some 10 dimensions; if your tokens are word forms, then there will be thousands of dimensions.\n",
    "\n",
    "(The vectors will be *sparse* vectors, only remembering the nonzero elements -- implemented simply as a `dict`.) \n",
    "\n",
    "When we initialize a Vectorizer, we need to specify two things:\n",
    "\n",
    "* What the stream of tokens should contain (what the dimensions of the space will be),\n",
    "* How the values of the vector items will be computed (binary? frequencies? etc.)"
   ]
  },
  {
   "cell_type": "markdown",
   "metadata": {},
   "source": [
    "Let's build a term frequency vectorizer that iterates over lemmas."
   ]
  },
  {
   "cell_type": "code",
   "execution_count": null,
   "metadata": {
    "collapsed": false
   },
   "outputs": [],
   "source": [
    "vectorizer = TermFrequencyVectorizer(field='lemma')"
   ]
  },
  {
   "cell_type": "markdown",
   "metadata": {},
   "source": [
    "The vectorizer provides a `transform` method that does the processing."
   ]
  },
  {
   "cell_type": "code",
   "execution_count": null,
   "metadata": {
    "collapsed": true
   },
   "outputs": [],
   "source": [
    "vdocs = (vectorizer.transform(d) for d in coll_docs)"
   ]
  },
  {
   "cell_type": "markdown",
   "metadata": {},
   "source": [
    "(Notice that we're still using generator expressions, so nothing really gets computed so far.)"
   ]
  },
  {
   "cell_type": "markdown",
   "metadata": {},
   "source": [
    "**After running through a** `Vectorizer`**, there is no implementation difference between what a Document and a Topic look like.**"
   ]
  },
  {
   "cell_type": "markdown",
   "metadata": {},
   "source": [
    "### Which tokens?\n",
    "\n",
    "Not all tokens are relevant. For instance, you might only want to represent a document using its title and headings, not the texts themselves. Or you might want to only use tokens which are \"content words\" -- usually defined as nouns, adjectives, verbs, or adverbs. The Vectorizers accept some arguments to specify which tokens should be used:\n",
    "\n",
    "* Zones (TITLE, HEADING, ...)\n",
    "* Field (form, lemma, pos, full_pos, ... - see format specification in the assignment README)\n",
    "* Start and end token (e.g. you might only want to read the beginnings of documents)\n",
    "* Token filter\n",
    "\n",
    "We've already seen an example using `field`. The `zones` for documents are `TITLE`, `HEADING`, and `TEXT`. The zones for queries (topics) are `title`, `narr`, and `desc`. Take a moment to look into the data, to make sure you know what the roles of the zones are.\n",
    "\n",
    "Except for zones, **make sure you use the same vectorization settings for both the Documents and the Topics!**\n",
    "\n",
    "#### Token filter\n",
    "\n",
    "The token filter argument is a function that returns True or False when called with a `VToken` object. This enables filtering out tokens based on a different field than the one used to build the vector space. For instance, the aforementioned content word filtering would be iplemented as:"
   ]
  },
  {
   "cell_type": "code",
   "execution_count": null,
   "metadata": {
    "collapsed": true
   },
   "outputs": [],
   "source": [
    "cw_vectorizer = TermFrequencyVectorizer(field='lemma', token_filter=lambda t: t.pos in 'NADV')"
   ]
  },
  {
   "cell_type": "markdown",
   "metadata": {},
   "source": [
    "We can compare the results of the \"plain\" vectorizer and the content word vectorizer:"
   ]
  },
  {
   "cell_type": "code",
   "execution_count": null,
   "metadata": {
    "collapsed": false
   },
   "outputs": [],
   "source": [
    "vdocs = [vectorizer.transform(d) for d in coll_docs]   # This actually parses the documents."
   ]
  },
  {
   "cell_type": "code",
   "execution_count": null,
   "metadata": {
    "collapsed": true
   },
   "outputs": [],
   "source": [
    "cw_docs = [cw_vectorizer.transform(d) for d in coll_docs]"
   ]
  },
  {
   "cell_type": "code",
   "execution_count": null,
   "metadata": {
    "collapsed": false
   },
   "outputs": [],
   "source": [
    "d = vdocs[0]\n",
    "cw_d = cw_docs[0]\n",
    "\n",
    "# Print the top 10 most frequent tokens\n",
    "import pprint, operator\n",
    "print('All words:')\n",
    "pprint.pprint({w: n for w, n in sorted(d.items(), key=operator.itemgetter(1), reverse=True)[:10]})\n",
    "print('----------------------\\nContent words:')\n",
    "pprint.pprint({w: n for w, n in sorted(cw_d.items(), key=operator.itemgetter(1), reverse=True)[:10]})"
   ]
  },
  {
   "cell_type": "markdown",
   "metadata": {},
   "source": [
    "We can see that token filtering can make a pretty large difference."
   ]
  },
  {
   "cell_type": "markdown",
   "metadata": {},
   "source": [
    "## Transforming vectors\n",
    "\n",
    "While the Vectorizers got us from the raw data to a vector space, we might not be particularly happy with the immediate results. For instance, in the above example, we see very general words like \"new\" or \"be\", and we might wish to apply the Inverse Document Frequency transform. Or we want to normalize the frequencies to sum to 1, or use pivot normalization, or... whatever.\n",
    "\n",
    "**To do operations on vector spaces, we use** `TransformCorpus` **objects as \"pipeline sections\" that operate on the flow of data.**"
   ]
  },
  {
   "cell_type": "code",
   "execution_count": null,
   "metadata": {
    "collapsed": true
   },
   "outputs": [],
   "source": [
    "from npfl103.transform import TransformCorpus"
   ]
  },
  {
   "cell_type": "markdown",
   "metadata": {},
   "source": [
    "These \"pipeline\" components get two parameters: the transformation they should be applying, and the source of the data to apply it on. Let's make an example transformation: normalizing the frequencies to 1."
   ]
  },
  {
   "cell_type": "code",
   "execution_count": null,
   "metadata": {
    "collapsed": true
   },
   "outputs": [],
   "source": [
    "# This is the transformation we want to apply.\n",
    "def normalize(vec):\n",
    "    doc_length = sum(vec.values())\n",
    "    return {k: v / doc_length for k, v in vec.items()}\n",
    "\n",
    "normalized_docs = TransformCorpus(corpus=cw_docs, transform=normalize, name='normalized_docs')"
   ]
  },
  {
   "cell_type": "markdown",
   "metadata": {},
   "source": [
    "* The `corpus` is an iterable that contains dictionary-like objects as sparse document vectors.\n",
    "* The `transform` parameter is a callable: either a function, or a class that implements a `__call__` method.\n",
    "* Notice also the `name` parameter: this is for yourself, to be able to keep track of what each pipeline component does."
   ]
  },
  {
   "cell_type": "markdown",
   "metadata": {},
   "source": [
    "Let's do the same thing for queries:"
   ]
  },
  {
   "cell_type": "code",
   "execution_count": null,
   "metadata": {
    "collapsed": true
   },
   "outputs": [],
   "source": [
    "cw_queries = (cw_vectorizer.transform(q) for q in coll_queries)   # Generator, again\n",
    "normalized_queries = TransformCorpus(corpus=cw_queries, transform=normalize, name='normalized_queries')"
   ]
  },
  {
   "cell_type": "markdown",
   "metadata": {},
   "source": [
    "### Vectorization as transformation\n",
    "\n",
    "It is maybe more elegant to implement vectorization also as a pipeline component instead of having lists or generators floating around."
   ]
  },
  {
   "cell_type": "code",
   "execution_count": null,
   "metadata": {
    "collapsed": true
   },
   "outputs": [],
   "source": [
    "cw_docs = TransformCorpus(corpus=coll_docs, transform=cw_vectorizer.transform, name='vectorized_docs')\n",
    "cw_queries = TransformCorpus(corpus=coll_queries, transform=cw_vectorizer.transform, name='vectorized_queries')"
   ]
  },
  {
   "cell_type": "markdown",
   "metadata": {},
   "source": [
    "### Chaining transformations\n",
    "\n",
    "The pipelines can, of course, build on top of each other. Using the previous pipeline stages `cw_docs` and `cw_queries` objects of `TransformCorpus` class as the `corpus` parameter, we can put the normalization on top of these:"
   ]
  },
  {
   "cell_type": "code",
   "execution_count": null,
   "metadata": {
    "collapsed": true
   },
   "outputs": [],
   "source": [
    "normalized_docs = TransformCorpus(corpus=cw_docs, transform=normalize, name='normalized_docs')\n",
    "normalized_queries = TransformCorpus(corpus=cw_queries, transform=normalize, name='normalized_docs')"
   ]
  },
  {
   "cell_type": "markdown",
   "metadata": {},
   "source": [
    "### How would you implement TF-IDF in this system?\n",
    "\n",
    "1. Vectorize with TermFrequencyVectorizer\n",
    "2. Implement IDF as a class with a `__call__` method that can be used as a transformation. (Hint: it needs to see the training corpus of documents at initialization time, to initialize the inverse document frequencies for the individual terms.)\n",
    "3. Add a `TransformCorpus` that gets this IDF transformer as a `transform` method on top of the vectorized corpus (that was also used as input for the IDF transformer's initialization)."
   ]
  },
  {
   "cell_type": "markdown",
   "metadata": {},
   "source": [
    "## Similarity queries\n",
    "\n",
    "Assuming we're happy with the vector space in which our documents now live, we want to find for a query the similarity scores for all documents.\n",
    "\n",
    "The same transformation mechanism is used. This time, we transform a query from the same space as the documents into a *similarity space*: the dimensions of this space are the documents which should be retrieved, and the values are the similarity scores for the query and that given document."
   ]
  },
  {
   "cell_type": "code",
   "execution_count": null,
   "metadata": {
    "collapsed": true
   },
   "outputs": [],
   "source": [
    "from npfl103.similarity import Similarity\n",
    "\n",
    "# The similarity is initialized with the document corpus.\n",
    "similarity = Similarity(corpus=normalized_docs, k=10)       # Returning the top 10 documents. Use None for all docs.\n",
    "similarity_corpus = TransformCorpus(corpus=normalized_queries, transform=similarity, name='sim')"
   ]
  },
  {
   "cell_type": "markdown",
   "metadata": {},
   "source": [
    "## Recapitulation\n",
    "\n",
    "At this point, the retrieval pipeline is set up. We have:\n",
    "\n",
    "* Vectorized and processed the documents which we want to retrieve,\n",
    "* We can vectorize and process an incoming query in the same way,\n",
    "* We can use the query to compute similarities and return the top `K` documents.\n",
    "\n",
    "Now, we only have to worry about recording our retrieval results and evaluating them against human judgments of relevant vs. non-relevant documents."
   ]
  },
  {
   "cell_type": "markdown",
   "metadata": {},
   "source": [
    "## Writing the outputs\n",
    "\n",
    "In order to record the outputs, use the `Similarity.write_trec` static method:"
   ]
  },
  {
   "cell_type": "code",
   "execution_count": null,
   "metadata": {
    "collapsed": false
   },
   "outputs": [],
   "source": [
    "import io   # The system io, not npfl103.io\n",
    "hdl = io.StringIO()  # Technical workaround, so that the tutorial does not create files.\n",
    "\n",
    "# This is what writes the output. In practice, you'll probably use \"with open(...) as hdl:\" to write to a file.\n",
    "Similarity.write_trec(similarity_corpus, similarity, hdl)"
   ]
  },
  {
   "cell_type": "markdown",
   "metadata": {},
   "source": [
    "## Evaluation\n",
    "\n",
    "You should already have compiled `trec_eval` using the instructions in the `README` in `npfl103/eval`. Run `trec_eval -h` to find out how to call the evaluation script."
   ]
  },
  {
   "cell_type": "markdown",
   "metadata": {},
   "source": [
    "# The End."
   ]
  }
 ],
 "metadata": {
  "anaconda-cloud": {},
  "kernelspec": {
   "display_name": "Python [default]",
   "language": "python",
   "name": "python3"
  },
  "language_info": {
   "codemirror_mode": {
    "name": "ipython",
    "version": 3
   },
   "file_extension": ".py",
   "mimetype": "text/x-python",
   "name": "python",
   "nbconvert_exporter": "python",
   "pygments_lexer": "ipython3",
   "version": "3.5.2"
  }
 },
 "nbformat": 4,
 "nbformat_minor": 0
}
