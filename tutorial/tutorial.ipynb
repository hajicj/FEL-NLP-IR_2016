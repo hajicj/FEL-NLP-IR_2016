{
 "cells": [
  {
   "cell_type": "markdown",
   "metadata": {},
   "source": [
    "# Information Retrieval\n",
    "\n",
    "This is a tutorial for the `npfl103` package for Information Retrieval assignments.\n",
    "It will cover the following steps:\n",
    "\n",
    "1. Loading documents and queries (topics)\n",
    "2. Processing documents and queries into a vector space\n",
    "3. Transforming the document vectors from one space to another\n",
    "4. Making queries\n",
    "5. Writing the outputs\n",
    "6. Evaluating\n",
    "\n",
    "Note that the Python classes you're supposed to use have documentation inside, with quite detailed examples.\n",
    "We don't cover all of that here -- the tutorial focuses on how the library fits together."
   ]
  },
  {
   "cell_type": "code",
   "execution_count": 1,
   "metadata": {
    "collapsed": true
   },
   "outputs": [],
   "source": [
    "import npfl103"
   ]
  },
  {
   "cell_type": "markdown",
   "metadata": {},
   "source": [
    "### Tutorial data\n",
    "\n",
    "The data for the tutorial lives in the `tutorial_assignment` subfolder. It mirrors the assignment folder in structure and file types."
   ]
  },
  {
   "cell_type": "code",
   "execution_count": 2,
   "metadata": {
    "collapsed": false
   },
   "outputs": [],
   "source": [
    "import os\n",
    "\n",
    "dpath = os.path.join('.', 'tutorial-assignment')\n",
    "dlist = os.path.join(dpath, 'documents.list')\n",
    "qlist = os.path.join(dpath, 'topics.list')"
   ]
  },
  {
   "cell_type": "markdown",
   "metadata": {},
   "source": [
    "## Loading documents and queries\n",
    "\n",
    "For loading data, use the `npfl103.io` module. From the top down, there is a class for representing the entire collection of documents (`Collection`), a `Document` class for representing one document and an equivalent `Topic` class for representing one query topic, a `VText` class for representing a block of text in one zone of a document/query, and a `VToken` class for representing one word (or equivalent token) in a zone text.\n",
    "\n",
    "These classes are nothing interesting: they merely represent the data (both the queries and the documents that should be retrieved). Check out their documentation strings for details on how to operate them.\n",
    "\n",
    "The main entry point to data loading is the `Collection` class. Initialize it with the `documents.list` (or `topics.list`) file:"
   ]
  },
  {
   "cell_type": "code",
   "execution_count": 3,
   "metadata": {
    "collapsed": true
   },
   "outputs": [],
   "source": [
    "from npfl103.io import Collection\n",
    "\n",
    "coll_docs = Collection(dlist)"
   ]
  },
  {
   "cell_type": "markdown",
   "metadata": {},
   "source": [
    "Notice that creating the Collection was fast. This is because the whole pipeline in `npfl103` is lazy: no document is read until it is actually requested. This helps keep time and especially memory requirements down; the library is designed to have a constant memory footprint."
   ]
  },
  {
   "cell_type": "markdown",
   "metadata": {},
   "source": [
    "### Collection item classes\n",
    "\n",
    "A Collection consists of individual documents. There are two implemented document types: the `Document` class from `npfl103.io`, and the `Topic` class. Collections are by default created as collections of `Document`s; however, for reading the queries, we use the same Collection mechanism and explicitly supply the `Topic` class."
   ]
  },
  {
   "cell_type": "code",
   "execution_count": 4,
   "metadata": {
    "collapsed": true
   },
   "outputs": [],
   "source": [
    "from npfl103.io import Topic\n",
    "coll_queries = Collection(qlist, document_cls=Topic)"
   ]
  },
  {
   "cell_type": "markdown",
   "metadata": {},
   "source": [
    "### Caching\n",
    "\n",
    "The constant memory footprint is not exactly true: for speeding up repeated document reads, the Collection caches the documents it read. Eventually, you may run out of memory. In that case, try creating a Collection with `nocache=True`."
   ]
  },
  {
   "cell_type": "markdown",
   "metadata": {},
   "source": [
    "## Processing documents and queries into a vector space\n",
    "\n",
    "To run a vector space information retrieval experiment, we now have to convert the loaded representations of documents and queries into a vector space. For this, we provide the `Vectorizer` classes."
   ]
  },
  {
   "cell_type": "code",
   "execution_count": 5,
   "metadata": {
    "collapsed": true
   },
   "outputs": [],
   "source": [
    "from npfl103.io import BinaryVectorizer, TermFrequencyVectorizer"
   ]
  },
  {
   "cell_type": "markdown",
   "metadata": {},
   "source": [
    "The purpose of a `Vectorizer` is to take a stream of a document's tokens and convert it into one vector representing this document in some vector space. Each token is used as a dimension of the vector space. If your tokens are just part of speech tags (noun, verb, etc.), then your space will have just some 10 dimensions; if your tokens are word forms, then there will be thousands of dimensions.\n",
    "\n",
    "(The vectors will be *sparse* vectors, only remembering the nonzero elements -- implemented simply as a `dict`.) \n",
    "\n",
    "When we initialize a Vectorizer, we need to specify two things:\n",
    "\n",
    "* What the stream of tokens should contain (what the dimensions of the space will be),\n",
    "* How the values of the vector items will be computed (binary? frequencies? etc.)"
   ]
  },
  {
   "cell_type": "markdown",
   "metadata": {},
   "source": [
    "Let's build a term frequency vectorizer that iterates over lemmas."
   ]
  },
  {
   "cell_type": "code",
   "execution_count": 6,
   "metadata": {
    "collapsed": false
   },
   "outputs": [],
   "source": [
    "vectorizer = TermFrequencyVectorizer(field='lemma')"
   ]
  },
  {
   "cell_type": "markdown",
   "metadata": {},
   "source": [
    "The vectorizer provides a `transform` method that does the processing."
   ]
  },
  {
   "cell_type": "code",
   "execution_count": 7,
   "metadata": {
    "collapsed": true
   },
   "outputs": [],
   "source": [
    "vdocs = (vectorizer.transform(d) for d in coll_docs)"
   ]
  },
  {
   "cell_type": "markdown",
   "metadata": {},
   "source": [
    "(Notice that we're still using generator expressions, so nothing really gets computed so far.)"
   ]
  },
  {
   "cell_type": "markdown",
   "metadata": {},
   "source": [
    "**After running through a** `Vectorizer`**, there is no implementation difference between what a Document and a Topic look like.**"
   ]
  },
  {
   "cell_type": "markdown",
   "metadata": {},
   "source": [
    "### Which tokens?\n",
    "\n",
    "Not all tokens are relevant. For instance, you might only want to represent a document using its title and headings, not the texts themselves. Or you might want to only use tokens which are \"content words\" -- usually defined as nouns, adjectives, verbs, or adverbs. The Vectorizers accept some arguments to specify which tokens should be used:\n",
    "\n",
    "* Zones (TITLE, HEADING, ...)\n",
    "* Field (form, lemma, pos, full_pos, ... - see format specification in the assignment README)\n",
    "* Start and end token (e.g. you might only want to read the beginnings of documents)\n",
    "* Token filter\n",
    "\n",
    "We've already seen an example using `field`. The `zones` for documents are `TITLE`, `HEADING`, and `TEXT`. The zones for queries (topics) are `title`, `narr`, and `desc`. Take a moment to look into the data, to make sure you know what the roles of the zones are.\n",
    "\n",
    "Except for zones, **make sure you use the same vectorization settings for both the Documents and the Topics!**\n",
    "\n",
    "#### Token filter\n",
    "\n",
    "The token filter argument is a function that returns True or False when called with a `VToken` object. This enables filtering out tokens based on a different field than the one used to build the vector space. For instance, the aforementioned content word filtering would be iplemented as:"
   ]
  },
  {
   "cell_type": "code",
   "execution_count": 8,
   "metadata": {
    "collapsed": true
   },
   "outputs": [],
   "source": [
    "cw_vectorizer = TermFrequencyVectorizer(field='lemma', token_filter=lambda t: t.pos in 'NADV')"
   ]
  },
  {
   "cell_type": "markdown",
   "metadata": {},
   "source": [
    "We can compare the results of the \"plain\" vectorizer and the content word vectorizer:"
   ]
  },
  {
   "cell_type": "code",
   "execution_count": 9,
   "metadata": {
    "collapsed": false
   },
   "outputs": [],
   "source": [
    "vdocs = [vectorizer.transform(d) for d in coll_docs]   # This actually parses the documents."
   ]
  },
  {
   "cell_type": "code",
   "execution_count": 10,
   "metadata": {
    "collapsed": true
   },
   "outputs": [],
   "source": [
    "cw_docs = [cw_vectorizer.transform(d) for d in coll_docs]"
   ]
  },
  {
   "cell_type": "code",
   "execution_count": 11,
   "metadata": {
    "collapsed": false
   },
   "outputs": [
    {
     "name": "stdout",
     "output_type": "stream",
     "text": [
      "All words:\n",
      "{',': 40,\n",
      " '.': 18,\n",
      " 'a': 10,\n",
      " 'euro': 9,\n",
      " 'evropský': 5,\n",
      " 'měna': 5,\n",
      " 'na': 7,\n",
      " 'nový': 5,\n",
      " 'se': 10,\n",
      " 'v': 11}\n",
      "----------------------\n",
      "Content words:\n",
      "{'0': 3,\n",
      " 'být': 4,\n",
      " 'euro': 9,\n",
      " 'evropský': 5,\n",
      " 'miliarda`1000000000': 3,\n",
      " 'měna': 5,\n",
      " 'nový': 5,\n",
      " 'stát': 3,\n",
      " 'země': 4,\n",
      " 'člověk': 2}\n"
     ]
    }
   ],
   "source": [
    "d = vdocs[0]\n",
    "cw_d = cw_docs[0]\n",
    "\n",
    "# Print the top 10 most frequent tokens\n",
    "import pprint, operator\n",
    "print('All words:')\n",
    "pprint.pprint({w: n for w, n in sorted(d.items(), key=operator.itemgetter(1), reverse=True)[:10]})\n",
    "print('----------------------\\nContent words:')\n",
    "pprint.pprint({w: n for w, n in sorted(cw_d.items(), key=operator.itemgetter(1), reverse=True)[:10]})"
   ]
  },
  {
   "cell_type": "markdown",
   "metadata": {},
   "source": [
    "We can see that token filtering can make a pretty large difference."
   ]
  },
  {
   "cell_type": "markdown",
   "metadata": {},
   "source": [
    "## Transforming vectors\n",
    "\n",
    "While the Vectorizers got us from the raw data to a vector space, we might not be particularly happy with the immediate results. For instance, in the above example, we see very general words like \"new\" or \"be\", and we might wish to apply the Inverse Document Frequency transform. Or we want to normalize the frequencies to sum to 1, or use pivot normalization, or... whatever.\n",
    "\n",
    "**To do operations on vector spaces, we use** `TransformCorpus` **objects as \"pipeline sections\" that operate on the flow of data.**"
   ]
  },
  {
   "cell_type": "code",
   "execution_count": 12,
   "metadata": {
    "collapsed": true
   },
   "outputs": [],
   "source": [
    "from npfl103.transform import TransformCorpus"
   ]
  },
  {
   "cell_type": "markdown",
   "metadata": {},
   "source": [
    "These \"pipeline\" components get two parameters: the transformation they should be applying, and the source of the data to apply it on. Let's make an example transformation: normalizing the frequencies to 1."
   ]
  },
  {
   "cell_type": "code",
   "execution_count": 13,
   "metadata": {
    "collapsed": true
   },
   "outputs": [],
   "source": [
    "# This is the transformation we want to apply.\n",
    "def normalize(vec):\n",
    "    doc_length = sum(vec.values())\n",
    "    return {k: v / doc_length for k, v in vec.items()}\n",
    "\n",
    "normalized_docs = TransformCorpus(corpus=cw_docs, transform=normalize, name='normalized_docs')"
   ]
  },
  {
   "cell_type": "markdown",
   "metadata": {},
   "source": [
    "* The `corpus` is an iterable that contains dictionary-like objects as sparse document vectors.\n",
    "* The `transform` parameter is a callable: either a function, or a class that implements a `__call__` method.\n",
    "* Notice also the `name` parameter: this is for yourself, to be able to keep track of what each pipeline component does."
   ]
  },
  {
   "cell_type": "markdown",
   "metadata": {},
   "source": [
    "Let's do the same thing for queries:"
   ]
  },
  {
   "cell_type": "code",
   "execution_count": 14,
   "metadata": {
    "collapsed": true
   },
   "outputs": [],
   "source": [
    "cw_queries = (cw_vectorizer.transform(q) for q in coll_queries)   # Generator, again\n",
    "normalized_queries = TransformCorpus(corpus=cw_queries, transform=normalize, name='normalized_queries')"
   ]
  },
  {
   "cell_type": "markdown",
   "metadata": {},
   "source": [
    "### Vectorization as transformation\n",
    "\n",
    "It is maybe more elegant to implement vectorization also as a pipeline component instead of having lists or generators floating around."
   ]
  },
  {
   "cell_type": "code",
   "execution_count": 15,
   "metadata": {
    "collapsed": true
   },
   "outputs": [],
   "source": [
    "cw_docs = TransformCorpus(corpus=coll_docs, transform=cw_vectorizer.transform, name='vectorized_docs')\n",
    "cw_queries = TransformCorpus(corpus=coll_queries, transform=cw_vectorizer.transform, name='vectorized_queries')"
   ]
  },
  {
   "cell_type": "markdown",
   "metadata": {},
   "source": [
    "### Chaining transformations\n",
    "\n",
    "The pipelines can, of course, build on top of each other. Using the previous pipeline stages `cw_docs` and `cw_queries` objects of `TransformCorpus` class as the `corpus` parameter, we can put the normalization on top of these:"
   ]
  },
  {
   "cell_type": "code",
   "execution_count": 16,
   "metadata": {
    "collapsed": true
   },
   "outputs": [],
   "source": [
    "normalized_docs = TransformCorpus(corpus=cw_docs, transform=normalize, name='normalized_docs')\n",
    "normalized_queries = TransformCorpus(corpus=cw_queries, transform=normalize, name='normalized_docs')"
   ]
  },
  {
   "cell_type": "markdown",
   "metadata": {},
   "source": [
    "### How would you implement TF-IDF in this system?\n",
    "\n",
    "1. Vectorize with TermFrequencyVectorizer\n",
    "2. Implement IDF as a class with a `__call__` method that can be used as a transformation. (Hint: it needs to see the training corpus of documents at initialization time, to initialize the inverse document frequencies for the individual terms.)\n",
    "3. Add a `TransformCorpus` that gets this IDF transformer as a `transform` method on top of the vectorized corpus (that was also used as input for the IDF transformer's initialization)."
   ]
  },
  {
   "cell_type": "markdown",
   "metadata": {},
   "source": [
    "## Similarity queries\n",
    "\n",
    "Assuming we're happy with the vector space in which our documents now live, we want to find for a query the similarity scores for all documents.\n",
    "\n",
    "The same transformation mechanism is used. This time, we transform a query from the same space as the documents into a *similarity space*: the dimensions of this space are the documents which should be retrieved, and the values are the similarity scores for the query and that given document."
   ]
  },
  {
   "cell_type": "code",
   "execution_count": 17,
   "metadata": {
    "collapsed": true
   },
   "outputs": [],
   "source": [
    "from npfl103.similarity import Similarity\n",
    "\n",
    "# The similarity is initialized with the document corpus.\n",
    "similarity = Similarity(corpus=normalized_docs, k=10)       # Returning the top 10 documents. Use None for all docs.\n",
    "similarity_corpus = TransformCorpus(corpus=normalized_queries, transform=similarity, name='sim')"
   ]
  },
  {
   "cell_type": "markdown",
   "metadata": {},
   "source": [
    "## Recapitulation\n",
    "\n",
    "At this point, the retrieval pipeline is set up. We have:\n",
    "\n",
    "* Vectorized and processed the documents which we want to retrieve,\n",
    "* We can vectorize and process an incoming query in the same way,\n",
    "* We can use the query to compute similarities and return the top `K` documents.\n",
    "\n",
    "Now, we only have to worry about recording our retrieval results and evaluating them against human judgments of relevant vs. non-relevant documents."
   ]
  },
  {
   "cell_type": "markdown",
   "metadata": {},
   "source": [
    "## Writing the outputs\n",
    "\n",
    "In order to record the outputs, use the `Similarity.write_trec` static method:"
   ]
  },
  {
   "cell_type": "code",
   "execution_count": 18,
   "metadata": {
    "collapsed": false
   },
   "outputs": [],
   "source": [
    "import io   # The system io, not npfl103.io\n",
    "hdl = io.StringIO()  # Technical workaround, so that the tutorial does not create files at this point.\n",
    "\n",
    "# This is what writes the output. In practice, you'll probably use \"with open(...) as hdl:\" to write to a file.\n",
    "Similarity.write_trec(similarity_corpus, similarity, hdl)"
   ]
  },
  {
   "cell_type": "markdown",
   "metadata": {},
   "source": [
    "## Evaluation\n",
    "\n",
    "You should already have compiled `trec_eval` using the instructions in the `README` in `npfl103/eval`.\n",
    "The `npfl103.evaluation` package provides a `do_eval()` and `print_eval()` function to run evaluation\n",
    "from within the package."
   ]
  },
  {
   "cell_type": "code",
   "execution_count": 19,
   "metadata": {
    "collapsed": true
   },
   "outputs": [],
   "source": [
    "from npfl103.evaluation import do_eval, print_eval"
   ]
  },
  {
   "cell_type": "markdown",
   "metadata": {},
   "source": [
    "Since `trec_eval` (which is called inside these functions) needs an input file, not a stream,\n",
    "we have to dump our results to a file."
   ]
  },
  {
   "cell_type": "code",
   "execution_count": 20,
   "metadata": {
    "collapsed": false
   },
   "outputs": [],
   "source": [
    "results_file = 'tutorial-assignment/tutorial-output.dat'\n",
    "with open(results_file, 'w') as outstream:\n",
    "    Similarity.write_trec(similarity_corpus, similarity, outstream)"
   ]
  },
  {
   "cell_type": "markdown",
   "metadata": {},
   "source": [
    "The tutorial assignment has its ground truth file:"
   ]
  },
  {
   "cell_type": "code",
   "execution_count": 21,
   "metadata": {
    "collapsed": false
   },
   "outputs": [
    {
     "name": "stdout",
     "output_type": "stream",
     "text": [
      "runid                 \tall\tdefault_run\n",
      "num_q                 \tall\t2\n",
      "num_ret               \tall\t20\n",
      "num_rel               \tall\t51\n",
      "num_rel_ret           \tall\t6\n",
      "map                   \tall\t0.1238\n",
      "gm_map                \tall\t0.1109\n",
      "Rprec                 \tall\t0.1739\n",
      "bpref                 \tall\t0.1405\n",
      "recip_rank            \tall\t1.0000\n",
      "iprec_at_recall_0.00  \tall\t1.0000\n",
      "iprec_at_recall_0.10  \tall\t0.3333\n",
      "iprec_at_recall_0.20  \tall\t0.1500\n",
      "iprec_at_recall_0.30  \tall\t0.0000\n",
      "iprec_at_recall_0.40  \tall\t0.0000\n",
      "iprec_at_recall_0.50  \tall\t0.0000\n",
      "iprec_at_recall_0.60  \tall\t0.0000\n",
      "iprec_at_recall_0.70  \tall\t0.0000\n",
      "iprec_at_recall_0.80  \tall\t0.0000\n",
      "iprec_at_recall_0.90  \tall\t0.0000\n",
      "iprec_at_recall_1.00  \tall\t0.0000\n",
      "P_5                   \tall\t0.5000\n",
      "P_10                  \tall\t0.3000\n",
      "P_15                  \tall\t0.2000\n",
      "P_20                  \tall\t0.1500\n",
      "P_30                  \tall\t0.1000\n",
      "P_100                 \tall\t0.0300\n",
      "P_200                 \tall\t0.0150\n",
      "P_500                 \tall\t0.0060\n",
      "P_1000                \tall\t0.0030\n",
      "\n"
     ]
    }
   ],
   "source": [
    "qrels_file = 'tutorial-assignment/qrels.txt'\n",
    "print_eval(qrels_file, results_file)"
   ]
  },
  {
   "cell_type": "markdown",
   "metadata": {},
   "source": [
    "You can also break down the results by query, by setting `results_by_query=True`:"
   ]
  },
  {
   "cell_type": "code",
   "execution_count": 22,
   "metadata": {
    "collapsed": false
   },
   "outputs": [
    {
     "name": "stdout",
     "output_type": "stream",
     "text": [
      "num_ret               \t10.2452/401-AH\t10\n",
      "num_rel               \t10.2452/401-AH\t11\n",
      "num_rel_ret           \t10.2452/401-AH\t3\n",
      "map                   \t10.2452/401-AH\t0.1788\n",
      "Rprec                 \t10.2452/401-AH\t0.2727\n",
      "bpref                 \t10.2452/401-AH\t0.2066\n",
      "recip_rank            \t10.2452/401-AH\t1.0000\n",
      "iprec_at_recall_0.00  \t10.2452/401-AH\t1.0000\n",
      "iprec_at_recall_0.10  \t10.2452/401-AH\t0.6667\n",
      "iprec_at_recall_0.20  \t10.2452/401-AH\t0.3000\n",
      "iprec_at_recall_0.30  \t10.2452/401-AH\t0.0000\n",
      "iprec_at_recall_0.40  \t10.2452/401-AH\t0.0000\n",
      "iprec_at_recall_0.50  \t10.2452/401-AH\t0.0000\n",
      "iprec_at_recall_0.60  \t10.2452/401-AH\t0.0000\n",
      "iprec_at_recall_0.70  \t10.2452/401-AH\t0.0000\n",
      "iprec_at_recall_0.80  \t10.2452/401-AH\t0.0000\n",
      "iprec_at_recall_0.90  \t10.2452/401-AH\t0.0000\n",
      "iprec_at_recall_1.00  \t10.2452/401-AH\t0.0000\n",
      "P_5                   \t10.2452/401-AH\t0.4000\n",
      "P_10                  \t10.2452/401-AH\t0.3000\n",
      "P_15                  \t10.2452/401-AH\t0.2000\n",
      "P_20                  \t10.2452/401-AH\t0.1500\n",
      "P_30                  \t10.2452/401-AH\t0.1000\n",
      "P_100                 \t10.2452/401-AH\t0.0300\n",
      "P_200                 \t10.2452/401-AH\t0.0150\n",
      "P_500                 \t10.2452/401-AH\t0.0060\n",
      "P_1000                \t10.2452/401-AH\t0.0030\n",
      "num_ret               \t10.2452/402-AH\t10\n",
      "num_rel               \t10.2452/402-AH\t40\n",
      "num_rel_ret           \t10.2452/402-AH\t3\n",
      "map                   \t10.2452/402-AH\t0.0688\n",
      "Rprec                 \t10.2452/402-AH\t0.0750\n",
      "bpref                 \t10.2452/402-AH\t0.0744\n",
      "recip_rank            \t10.2452/402-AH\t1.0000\n",
      "iprec_at_recall_0.00  \t10.2452/402-AH\t1.0000\n",
      "iprec_at_recall_0.10  \t10.2452/402-AH\t0.0000\n",
      "iprec_at_recall_0.20  \t10.2452/402-AH\t0.0000\n",
      "iprec_at_recall_0.30  \t10.2452/402-AH\t0.0000\n",
      "iprec_at_recall_0.40  \t10.2452/402-AH\t0.0000\n",
      "iprec_at_recall_0.50  \t10.2452/402-AH\t0.0000\n",
      "iprec_at_recall_0.60  \t10.2452/402-AH\t0.0000\n",
      "iprec_at_recall_0.70  \t10.2452/402-AH\t0.0000\n",
      "iprec_at_recall_0.80  \t10.2452/402-AH\t0.0000\n",
      "iprec_at_recall_0.90  \t10.2452/402-AH\t0.0000\n",
      "iprec_at_recall_1.00  \t10.2452/402-AH\t0.0000\n",
      "P_5                   \t10.2452/402-AH\t0.6000\n",
      "P_10                  \t10.2452/402-AH\t0.3000\n",
      "P_15                  \t10.2452/402-AH\t0.2000\n",
      "P_20                  \t10.2452/402-AH\t0.1500\n",
      "P_30                  \t10.2452/402-AH\t0.1000\n",
      "P_100                 \t10.2452/402-AH\t0.0300\n",
      "P_200                 \t10.2452/402-AH\t0.0150\n",
      "P_500                 \t10.2452/402-AH\t0.0060\n",
      "P_1000                \t10.2452/402-AH\t0.0030\n",
      "runid                 \tall\tdefault_run\n",
      "num_q                 \tall\t2\n",
      "num_ret               \tall\t20\n",
      "num_rel               \tall\t51\n",
      "num_rel_ret           \tall\t6\n",
      "map                   \tall\t0.1238\n",
      "gm_map                \tall\t0.1109\n",
      "Rprec                 \tall\t0.1739\n",
      "bpref                 \tall\t0.1405\n",
      "recip_rank            \tall\t1.0000\n",
      "iprec_at_recall_0.00  \tall\t1.0000\n",
      "iprec_at_recall_0.10  \tall\t0.3333\n",
      "iprec_at_recall_0.20  \tall\t0.1500\n",
      "iprec_at_recall_0.30  \tall\t0.0000\n",
      "iprec_at_recall_0.40  \tall\t0.0000\n",
      "iprec_at_recall_0.50  \tall\t0.0000\n",
      "iprec_at_recall_0.60  \tall\t0.0000\n",
      "iprec_at_recall_0.70  \tall\t0.0000\n",
      "iprec_at_recall_0.80  \tall\t0.0000\n",
      "iprec_at_recall_0.90  \tall\t0.0000\n",
      "iprec_at_recall_1.00  \tall\t0.0000\n",
      "P_5                   \tall\t0.5000\n",
      "P_10                  \tall\t0.3000\n",
      "P_15                  \tall\t0.2000\n",
      "P_20                  \tall\t0.1500\n",
      "P_30                  \tall\t0.1000\n",
      "P_100                 \tall\t0.0300\n",
      "P_200                 \tall\t0.0150\n",
      "P_500                 \tall\t0.0060\n",
      "P_1000                \tall\t0.0030\n",
      "\n"
     ]
    }
   ],
   "source": [
    "print_eval(qrels_file, results_file, results_by_query=True)"
   ]
  },
  {
   "cell_type": "markdown",
   "metadata": {},
   "source": [
    "If you want to do further processing with the results, use `do_eval()`.\n",
    "Instead of printing results, it returns them as a dictionary. Again, you can\n",
    "request the results by query (it will come in an `OrderedDict` of `OrderedDict`s,\n",
    "see `do_eval()` docstring)."
   ]
  },
  {
   "cell_type": "code",
   "execution_count": 25,
   "metadata": {
    "collapsed": false
   },
   "outputs": [
    {
     "name": "stdout",
     "output_type": "stream",
     "text": [
      "['10.2452/401-AH', '10.2452/402-AH', 'all']\n",
      "OrderedDict([('num_ret', '10'),\n",
      "             ('num_rel', '11'),\n",
      "             ('num_rel_ret', '3'),\n",
      "             ('map', '0.1788'),\n",
      "             ('Rprec', '0.2727'),\n",
      "             ('bpref', '0.2066'),\n",
      "             ('recip_rank', '1.0000'),\n",
      "             ('iprec_at_recall_0.00', '1.0000'),\n",
      "             ('iprec_at_recall_0.10', '0.6667'),\n",
      "             ('iprec_at_recall_0.20', '0.3000'),\n",
      "             ('iprec_at_recall_0.30', '0.0000'),\n",
      "             ('iprec_at_recall_0.40', '0.0000'),\n",
      "             ('iprec_at_recall_0.50', '0.0000'),\n",
      "             ('iprec_at_recall_0.60', '0.0000'),\n",
      "             ('iprec_at_recall_0.70', '0.0000'),\n",
      "             ('iprec_at_recall_0.80', '0.0000'),\n",
      "             ('iprec_at_recall_0.90', '0.0000'),\n",
      "             ('iprec_at_recall_1.00', '0.0000'),\n",
      "             ('P_5', '0.4000'),\n",
      "             ('P_10', '0.3000'),\n",
      "             ('P_15', '0.2000'),\n",
      "             ('P_20', '0.1500'),\n",
      "             ('P_30', '0.1000'),\n",
      "             ('P_100', '0.0300'),\n",
      "             ('P_200', '0.0150'),\n",
      "             ('P_500', '0.0060'),\n",
      "             ('P_1000', '0.0030')])\n"
     ]
    }
   ],
   "source": [
    "results = do_eval(qrels_file, results_file, results_by_query=True)\n",
    "pprint.pprint([q for q in results])\n",
    "pprint.pprint(results['10.2452/401-AH'])"
   ]
  },
  {
   "cell_type": "markdown",
   "metadata": {},
   "source": []
  },
  {
   "cell_type": "markdown",
   "metadata": {},
   "source": [
    "# Happy hacking."
   ]
  }
 ],
 "metadata": {
  "anaconda-cloud": {},
  "kernelspec": {
   "display_name": "Python [default]",
   "language": "python",
   "name": "python3"
  },
  "language_info": {
   "codemirror_mode": {
    "name": "ipython",
    "version": 3
   },
   "file_extension": ".py",
   "mimetype": "text/x-python",
   "name": "python",
   "nbconvert_exporter": "python",
   "pygments_lexer": "ipython3",
   "version": "3.5.2"
  }
 },
 "nbformat": 4,
 "nbformat_minor": 0
}
